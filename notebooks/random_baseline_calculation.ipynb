{
 "cells": [
  {
   "cell_type": "code",
   "execution_count": 1,
   "id": "2edc0b8e",
   "metadata": {},
   "outputs": [],
   "source": [
    "import numpy as np\n",
    "import pandas as pd\n",
    "import pickle\n",
    "from sklearn.metrics import accuracy_score"
   ]
  },
  {
   "cell_type": "code",
   "execution_count": 2,
   "id": "2f3aa801",
   "metadata": {},
   "outputs": [],
   "source": [
    "# Load the development set\n",
    "with open('../data/development_set.pkl', 'rb') as f:\n",
    "    X_dev_set, y_dev_set = pickle.load(f)\n",
    "# Load the test set\n",
    "with open('../data/test_set.pkl', 'rb') as f:\n",
    "    X_test, y_test = pickle.load(f)\n",
    "# Software metrics_concidered\n",
    "with open('../data/metrics_concidered.pkl', 'rb') as file:\n",
    "    metrics_concidered = pickle.load(file)"
   ]
  },
  {
   "cell_type": "markdown",
   "id": "cfebc13b",
   "metadata": {},
   "source": [
    "### Random baseline (Monte Carlo estimate)"
   ]
  },
  {
   "cell_type": "code",
   "execution_count": 3,
   "id": "7e0e65ea",
   "metadata": {},
   "outputs": [
    {
     "name": "stdout",
     "output_type": "stream",
     "text": [
      "Random baseline accuracy based on Monte Carlo estimate: 0.2098\n"
     ]
    }
   ],
   "source": [
    "labels = y_test\n",
    "# Calculate the empirical class distribution from the test labels\n",
    "label_counts = pd.Series(labels).value_counts()\n",
    "total_labels = len(labels)\n",
    "# Calculate the probability of each class based on its frequency\n",
    "class_probabilities = label_counts / total_labels\n",
    "# Perform a Monte Carlo simulation to estimate random baseline accuracy\n",
    "# Generate random predictions by sampling from the class labels according to the empirical probabilities\n",
    "random_predictions = np.random.choice(\n",
    "    label_counts.index, \n",
    "    size=total_labels,  \n",
    "    p=class_probabilities.values\n",
    ")\n",
    "# Calculate the accuracy \n",
    "random_accuracy = accuracy_score(labels, random_predictions)\n",
    "print(f\"Random baseline accuracy based on Monte Carlo estimate: {random_accuracy:.4f}\")\n"
   ]
  }
 ],
 "metadata": {
  "kernelspec": {
   "display_name": "Python 3 (ipykernel)",
   "language": "python",
   "name": "python3"
  },
  "language_info": {
   "codemirror_mode": {
    "name": "ipython",
    "version": 3
   },
   "file_extension": ".py",
   "mimetype": "text/x-python",
   "name": "python",
   "nbconvert_exporter": "python",
   "pygments_lexer": "ipython3",
   "version": "3.9.18"
  }
 },
 "nbformat": 4,
 "nbformat_minor": 5
}
